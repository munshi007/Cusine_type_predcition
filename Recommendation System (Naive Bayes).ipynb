{
 "cells": [
  {
   "cell_type": "code",
   "execution_count": 14,
   "metadata": {},
   "outputs": [],
   "source": [
    "import pandas as pd\n",
    "df_train = pd.read_json (r'train.json')"
   ]
  },
  {
   "cell_type": "code",
   "execution_count": 2,
   "metadata": {},
   "outputs": [
    {
     "name": "stdout",
     "output_type": "stream",
     "text": [
      "                id\n",
      "cuisine           \n",
      "italian       7838\n",
      "mexican       6438\n",
      "southern_us   4320\n",
      "indian        3003\n",
      "chinese       2673\n",
      "french        2646\n",
      "cajun_creole  1546\n",
      "thai          1539\n",
      "japanese      1423\n",
      "greek         1175\n",
      "spanish        989\n",
      "korean         830\n",
      "vietnamese     825\n",
      "moroccan       821\n",
      "british        804\n",
      "filipino       755\n",
      "irish          667\n",
      "jamaican       526\n",
      "russian        489\n",
      "brazilian      467\n"
     ]
    }
   ],
   "source": [
    "c =pd.DataFrame(df_train.groupby('cuisine')['id'].nunique())\n",
    "c=c.sort_values(by=['id'], ascending=False)\n",
    "print(c) #Select top 3 recipies for the model"
   ]
  },
  {
   "cell_type": "markdown",
   "metadata": {},
   "source": [
    "### Create a new dataframe with only the 3 cuisines"
   ]
  },
  {
   "cell_type": "code",
   "execution_count": 3,
   "metadata": {},
   "outputs": [],
   "source": [
    "crit = ((df_train['cuisine'] == 'italian') | \n",
    "                (df_train['cuisine']  == 'mexican') | \n",
    "                (df_train['cuisine']  == 'southern_us') )\n",
    "df_new=df_train[crit]  "
   ]
  },
  {
   "cell_type": "markdown",
   "metadata": {},
   "source": [
    "### Find the top 5 ingredients occuring in these cuisines and rate them 1 to 5, with 5 being the highest occuring(frequent)"
   ]
  },
  {
   "cell_type": "code",
   "execution_count": 4,
   "metadata": {},
   "outputs": [
    {
     "name": "stdout",
     "output_type": "stream",
     "text": [
      "['plain flour' 'ground pepper' 'salt' ... 'boiling water' 'milk' 'salt']\n"
     ]
    },
    {
     "data": {
      "text/html": [
       "<div>\n",
       "<style scoped>\n",
       "    .dataframe tbody tr th:only-of-type {\n",
       "        vertical-align: middle;\n",
       "    }\n",
       "\n",
       "    .dataframe tbody tr th {\n",
       "        vertical-align: top;\n",
       "    }\n",
       "\n",
       "    .dataframe thead th {\n",
       "        text-align: right;\n",
       "    }\n",
       "</style>\n",
       "<table border=\"1\" class=\"dataframe\">\n",
       "  <thead>\n",
       "    <tr style=\"text-align: right;\">\n",
       "      <th></th>\n",
       "      <th>cuisine</th>\n",
       "      <th>southern_us</th>\n",
       "    </tr>\n",
       "  </thead>\n",
       "  <tbody>\n",
       "    <tr>\n",
       "      <th>1</th>\n",
       "      <td>butter</td>\n",
       "      <td>5</td>\n",
       "    </tr>\n",
       "    <tr>\n",
       "      <th>2</th>\n",
       "      <td>all-purpose flour</td>\n",
       "      <td>4</td>\n",
       "    </tr>\n",
       "    <tr>\n",
       "      <th>3</th>\n",
       "      <td>sugar</td>\n",
       "      <td>3</td>\n",
       "    </tr>\n",
       "    <tr>\n",
       "      <th>4</th>\n",
       "      <td>large eggs</td>\n",
       "      <td>2</td>\n",
       "    </tr>\n",
       "    <tr>\n",
       "      <th>5</th>\n",
       "      <td>baking powder</td>\n",
       "      <td>1</td>\n",
       "    </tr>\n",
       "  </tbody>\n",
       "</table>\n",
       "</div>"
      ],
      "text/plain": [
       "             cuisine  southern_us\n",
       "1             butter            5\n",
       "2  all-purpose flour            4\n",
       "3              sugar            3\n",
       "4         large eggs            2\n",
       "5      baking powder            1"
      ]
     },
     "execution_count": 4,
     "metadata": {},
     "output_type": "execute_result"
    }
   ],
   "source": [
    "l=[]\n",
    "for i in df_new[df_new['cuisine']  == 'southern_us'].ingredients[0:]:\n",
    "    l.append(i)\n",
    "\n",
    "import numpy as np \n",
    "l=np.concatenate([np.array(j) for j in l])\n",
    "print(l)\n",
    "\n",
    "counts,values = pd.Series(l).value_counts().values, pd.Series(l).value_counts().index\n",
    "df_results = pd.DataFrame(list(zip(values,counts)),columns=['cuisine', 'southern_us'])\n",
    "# df_results.head(10)\n",
    "df_results=df_results[1:6]\n",
    "r=[5,4,3,2,1]\n",
    "df_results.southern_us=r\n",
    "# df_results_s=df_results.T\n",
    "df_results_s=df_results\n",
    "df_results_s.head()"
   ]
  },
  {
   "cell_type": "code",
   "execution_count": 5,
   "metadata": {},
   "outputs": [
    {
     "name": "stdout",
     "output_type": "stream",
     "text": [
      "['olive oil' 'purple onion' 'fresh pineapple' ... 'roma tomatoes' 'celery'\n",
      " 'dried oregano']\n"
     ]
    },
    {
     "data": {
      "text/html": [
       "<div>\n",
       "<style scoped>\n",
       "    .dataframe tbody tr th:only-of-type {\n",
       "        vertical-align: middle;\n",
       "    }\n",
       "\n",
       "    .dataframe tbody tr th {\n",
       "        vertical-align: top;\n",
       "    }\n",
       "\n",
       "    .dataframe thead th {\n",
       "        text-align: right;\n",
       "    }\n",
       "</style>\n",
       "<table border=\"1\" class=\"dataframe\">\n",
       "  <thead>\n",
       "    <tr style=\"text-align: right;\">\n",
       "      <th></th>\n",
       "      <th>cuisine</th>\n",
       "      <th>mexican</th>\n",
       "    </tr>\n",
       "  </thead>\n",
       "  <tbody>\n",
       "    <tr>\n",
       "      <th>1</th>\n",
       "      <td>onions</td>\n",
       "      <td>5</td>\n",
       "    </tr>\n",
       "    <tr>\n",
       "      <th>2</th>\n",
       "      <td>ground cumin</td>\n",
       "      <td>4</td>\n",
       "    </tr>\n",
       "    <tr>\n",
       "      <th>3</th>\n",
       "      <td>garlic</td>\n",
       "      <td>3</td>\n",
       "    </tr>\n",
       "    <tr>\n",
       "      <th>4</th>\n",
       "      <td>olive oil</td>\n",
       "      <td>2</td>\n",
       "    </tr>\n",
       "    <tr>\n",
       "      <th>5</th>\n",
       "      <td>chili powder</td>\n",
       "      <td>1</td>\n",
       "    </tr>\n",
       "  </tbody>\n",
       "</table>\n",
       "</div>"
      ],
      "text/plain": [
       "        cuisine  mexican\n",
       "1        onions        5\n",
       "2  ground cumin        4\n",
       "3        garlic        3\n",
       "4     olive oil        2\n",
       "5  chili powder        1"
      ]
     },
     "execution_count": 5,
     "metadata": {},
     "output_type": "execute_result"
    }
   ],
   "source": [
    "l=[]\n",
    "for i in df_new[df_new['cuisine']  == 'mexican'].ingredients[0:]:\n",
    "    l.append(i)\n",
    "\n",
    "import numpy as np \n",
    "l=np.concatenate([np.array(j) for j in l])\n",
    "print(l)\n",
    "\n",
    "counts,values = pd.Series(l).value_counts().values, pd.Series(l).value_counts().index\n",
    "df_results = pd.DataFrame(list(zip(values,counts)),columns=['cuisine', 'mexican'])\n",
    "# df_results.head(10)\n",
    "df_results=df_results[1:6]\n",
    "r=[5,4,3,2,1]\n",
    "df_results.mexican=r\n",
    "# df_results_m=df_results.T\n",
    "df_results_m=df_results\n",
    "df_results_m.head()"
   ]
  },
  {
   "cell_type": "code",
   "execution_count": 7,
   "metadata": {},
   "outputs": [
    {
     "name": "stdout",
     "output_type": "stream",
     "text": [
      "['sugar' 'pistachio nuts' 'white almond bark' ... 'pitted black olives'\n",
      " 'Kraft Grated Parmesan Cheese' 'red pepper']\n"
     ]
    },
    {
     "data": {
      "text/html": [
       "<div>\n",
       "<style scoped>\n",
       "    .dataframe tbody tr th:only-of-type {\n",
       "        vertical-align: middle;\n",
       "    }\n",
       "\n",
       "    .dataframe tbody tr th {\n",
       "        vertical-align: top;\n",
       "    }\n",
       "\n",
       "    .dataframe thead th {\n",
       "        text-align: right;\n",
       "    }\n",
       "</style>\n",
       "<table border=\"1\" class=\"dataframe\">\n",
       "  <thead>\n",
       "    <tr style=\"text-align: right;\">\n",
       "      <th></th>\n",
       "      <th>cuisine</th>\n",
       "      <th>italian</th>\n",
       "    </tr>\n",
       "  </thead>\n",
       "  <tbody>\n",
       "    <tr>\n",
       "      <th>1</th>\n",
       "      <td>olive oil</td>\n",
       "      <td>5</td>\n",
       "    </tr>\n",
       "    <tr>\n",
       "      <th>2</th>\n",
       "      <td>garlic cloves</td>\n",
       "      <td>4</td>\n",
       "    </tr>\n",
       "    <tr>\n",
       "      <th>3</th>\n",
       "      <td>grated parmesan cheese</td>\n",
       "      <td>3</td>\n",
       "    </tr>\n",
       "    <tr>\n",
       "      <th>4</th>\n",
       "      <td>garlic</td>\n",
       "      <td>2</td>\n",
       "    </tr>\n",
       "    <tr>\n",
       "      <th>5</th>\n",
       "      <td>ground black pepper</td>\n",
       "      <td>1</td>\n",
       "    </tr>\n",
       "  </tbody>\n",
       "</table>\n",
       "</div>"
      ],
      "text/plain": [
       "                  cuisine  italian\n",
       "1               olive oil        5\n",
       "2           garlic cloves        4\n",
       "3  grated parmesan cheese        3\n",
       "4                  garlic        2\n",
       "5     ground black pepper        1"
      ]
     },
     "execution_count": 7,
     "metadata": {},
     "output_type": "execute_result"
    }
   ],
   "source": [
    "l=[]\n",
    "for i in df_new[df_new['cuisine']  == 'italian'].ingredients[0:]:\n",
    "    l.append(i)\n",
    "\n",
    "import numpy as np \n",
    "l=np.concatenate([np.array(j) for j in l])\n",
    "print(l)\n",
    "\n",
    "counts,values = pd.Series(l).value_counts().values, pd.Series(l).value_counts().index\n",
    "df_results = pd.DataFrame(list(zip(values,counts)),columns=['cuisine', 'italian'])\n",
    "# print(df_results.head(10))\n",
    "df_results=df_results[1:6]\n",
    "r=[5,4,3,2,1]\n",
    "df_results.italian=r\n",
    "# df_results_i=df_results.T\n",
    "df_results_i=df_results\n",
    "df_results_i.head()"
   ]
  },
  {
   "cell_type": "code",
   "execution_count": 8,
   "metadata": {},
   "outputs": [
    {
     "name": "stdout",
     "output_type": "stream",
     "text": [
      "                    0              1                       2       3   \\\n",
      "cuisine      olive oil  garlic cloves  grated parmesan cheese  garlic   \n",
      "italian              5              4                       3       2   \n",
      "mexican            NaN            NaN                     NaN     NaN   \n",
      "southern_us        NaN            NaN                     NaN     NaN   \n",
      "\n",
      "                              4       5             6       7          8   \\\n",
      "cuisine      ground black pepper  onions  ground cumin  garlic  olive oil   \n",
      "italian                        1     NaN           NaN     NaN        NaN   \n",
      "mexican                      NaN       5             4       3          2   \n",
      "southern_us                  NaN     NaN           NaN     NaN        NaN   \n",
      "\n",
      "                       9       10                 11     12          13  \\\n",
      "cuisine      chili powder  butter  all-purpose flour  sugar  large eggs   \n",
      "italian               NaN     NaN                NaN    NaN         NaN   \n",
      "mexican                 1     NaN                NaN    NaN         NaN   \n",
      "southern_us           NaN       5                  4      3           2   \n",
      "\n",
      "                        14  \n",
      "cuisine      baking powder  \n",
      "italian                NaN  \n",
      "mexican                NaN  \n",
      "southern_us              1  \n"
     ]
    }
   ],
   "source": [
    "f=pd.concat([df_results_i, df_results_m,df_results_s],  ignore_index=True).reset_index(drop=True)#.T   \n",
    "f=f.T\n",
    "print(f)"
   ]
  },
  {
   "cell_type": "code",
   "execution_count": 9,
   "metadata": {},
   "outputs": [],
   "source": [
    "df2 = pd.DataFrame(f)      #convert the first row in header\n",
    "df2.columns = df2.iloc[0]\n",
    "df2 = df2[1:]\n",
    "final=df2.groupby(df2.columns, axis=1).sum()"
   ]
  },
  {
   "cell_type": "code",
   "execution_count": 15,
   "metadata": {},
   "outputs": [
    {
     "data": {
      "text/html": [
       "<div>\n",
       "<style scoped>\n",
       "    .dataframe tbody tr th:only-of-type {\n",
       "        vertical-align: middle;\n",
       "    }\n",
       "\n",
       "    .dataframe tbody tr th {\n",
       "        vertical-align: top;\n",
       "    }\n",
       "\n",
       "    .dataframe thead th {\n",
       "        text-align: right;\n",
       "    }\n",
       "</style>\n",
       "<table border=\"1\" class=\"dataframe\">\n",
       "  <thead>\n",
       "    <tr style=\"text-align: right;\">\n",
       "      <th>cuisine</th>\n",
       "      <th>cuisine</th>\n",
       "      <th>cuisine</th>\n",
       "      <th>all-purpose flour</th>\n",
       "      <th>baking powder</th>\n",
       "      <th>butter</th>\n",
       "      <th>chili powder</th>\n",
       "      <th>garlic</th>\n",
       "      <th>garlic cloves</th>\n",
       "      <th>grated parmesan cheese</th>\n",
       "      <th>ground black pepper</th>\n",
       "      <th>ground cumin</th>\n",
       "      <th>large eggs</th>\n",
       "      <th>olive oil</th>\n",
       "      <th>onions</th>\n",
       "      <th>sugar</th>\n",
       "    </tr>\n",
       "  </thead>\n",
       "  <tbody>\n",
       "    <tr>\n",
       "      <th>0</th>\n",
       "      <td>0</td>\n",
       "      <td>italian</td>\n",
       "      <td>0.0</td>\n",
       "      <td>0.0</td>\n",
       "      <td>0.0</td>\n",
       "      <td>0.0</td>\n",
       "      <td>2.0</td>\n",
       "      <td>4.0</td>\n",
       "      <td>3.0</td>\n",
       "      <td>1.0</td>\n",
       "      <td>0.0</td>\n",
       "      <td>0.0</td>\n",
       "      <td>5.0</td>\n",
       "      <td>0.0</td>\n",
       "      <td>0.0</td>\n",
       "    </tr>\n",
       "    <tr>\n",
       "      <th>1</th>\n",
       "      <td>1</td>\n",
       "      <td>mexican</td>\n",
       "      <td>0.0</td>\n",
       "      <td>0.0</td>\n",
       "      <td>0.0</td>\n",
       "      <td>1.0</td>\n",
       "      <td>3.0</td>\n",
       "      <td>0.0</td>\n",
       "      <td>0.0</td>\n",
       "      <td>0.0</td>\n",
       "      <td>4.0</td>\n",
       "      <td>0.0</td>\n",
       "      <td>2.0</td>\n",
       "      <td>5.0</td>\n",
       "      <td>0.0</td>\n",
       "    </tr>\n",
       "    <tr>\n",
       "      <th>2</th>\n",
       "      <td>2</td>\n",
       "      <td>southern_us</td>\n",
       "      <td>4.0</td>\n",
       "      <td>1.0</td>\n",
       "      <td>5.0</td>\n",
       "      <td>0.0</td>\n",
       "      <td>0.0</td>\n",
       "      <td>0.0</td>\n",
       "      <td>0.0</td>\n",
       "      <td>0.0</td>\n",
       "      <td>0.0</td>\n",
       "      <td>2.0</td>\n",
       "      <td>0.0</td>\n",
       "      <td>0.0</td>\n",
       "      <td>3.0</td>\n",
       "    </tr>\n",
       "  </tbody>\n",
       "</table>\n",
       "</div>"
      ],
      "text/plain": [
       "cuisine cuisine      cuisine  all-purpose flour  baking powder  butter  \\\n",
       "0             0      italian                0.0            0.0     0.0   \n",
       "1             1      mexican                0.0            0.0     0.0   \n",
       "2             2  southern_us                4.0            1.0     5.0   \n",
       "\n",
       "cuisine  chili powder  garlic  garlic cloves  grated parmesan cheese  \\\n",
       "0                 0.0     2.0            4.0                     3.0   \n",
       "1                 1.0     3.0            0.0                     0.0   \n",
       "2                 0.0     0.0            0.0                     0.0   \n",
       "\n",
       "cuisine  ground black pepper  ground cumin  large eggs  olive oil  onions  \\\n",
       "0                        1.0           0.0         0.0        5.0     0.0   \n",
       "1                        0.0           4.0         0.0        2.0     5.0   \n",
       "2                        0.0           0.0         2.0        0.0     0.0   \n",
       "\n",
       "cuisine  sugar  \n",
       "0          0.0  \n",
       "1          0.0  \n",
       "2          3.0  "
      ]
     },
     "execution_count": 15,
     "metadata": {},
     "output_type": "execute_result"
    }
   ],
   "source": [
    "final.reset_index(level=0,inplace=True)\n",
    "final.rename(columns={'index':'cuisine'},inplace=True)\n",
    "final"
   ]
  },
  {
   "cell_type": "markdown",
   "metadata": {},
   "source": [
    "#### convert cuisines to categories"
   ]
  },
  {
   "cell_type": "code",
   "execution_count": 28,
   "metadata": {},
   "outputs": [
    {
     "data": {
      "text/plain": [
       "['cuisine', 'cuisine']\n",
       "Categories (1, object): ['cuisine']"
      ]
     },
     "execution_count": 28,
     "metadata": {},
     "output_type": "execute_result"
    }
   ],
   "source": [
    "pd.Categorical(final.cuisine)"
   ]
  },
  {
   "cell_type": "code",
   "execution_count": 35,
   "metadata": {},
   "outputs": [
    {
     "data": {
      "text/html": [
       "<div>\n",
       "<style scoped>\n",
       "    .dataframe tbody tr th:only-of-type {\n",
       "        vertical-align: middle;\n",
       "    }\n",
       "\n",
       "    .dataframe tbody tr th {\n",
       "        vertical-align: top;\n",
       "    }\n",
       "\n",
       "    .dataframe thead th {\n",
       "        text-align: right;\n",
       "    }\n",
       "</style>\n",
       "<table border=\"1\" class=\"dataframe\">\n",
       "  <thead>\n",
       "    <tr style=\"text-align: right;\">\n",
       "      <th>cuisine</th>\n",
       "      <th>cuisine</th>\n",
       "      <th>all-purpose flour</th>\n",
       "      <th>baking powder</th>\n",
       "      <th>butter</th>\n",
       "      <th>chili powder</th>\n",
       "      <th>garlic</th>\n",
       "      <th>garlic cloves</th>\n",
       "      <th>grated parmesan cheese</th>\n",
       "      <th>ground black pepper</th>\n",
       "      <th>ground cumin</th>\n",
       "      <th>large eggs</th>\n",
       "      <th>olive oil</th>\n",
       "      <th>onions</th>\n",
       "      <th>sugar</th>\n",
       "    </tr>\n",
       "  </thead>\n",
       "  <tbody>\n",
       "    <tr>\n",
       "      <th>0</th>\n",
       "      <td>0</td>\n",
       "      <td>0.0</td>\n",
       "      <td>0.0</td>\n",
       "      <td>0.0</td>\n",
       "      <td>0.0</td>\n",
       "      <td>2.0</td>\n",
       "      <td>4.0</td>\n",
       "      <td>3.0</td>\n",
       "      <td>1.0</td>\n",
       "      <td>0.0</td>\n",
       "      <td>0.0</td>\n",
       "      <td>5.0</td>\n",
       "      <td>0.0</td>\n",
       "      <td>0.0</td>\n",
       "    </tr>\n",
       "    <tr>\n",
       "      <th>1</th>\n",
       "      <td>1</td>\n",
       "      <td>0.0</td>\n",
       "      <td>0.0</td>\n",
       "      <td>0.0</td>\n",
       "      <td>1.0</td>\n",
       "      <td>3.0</td>\n",
       "      <td>0.0</td>\n",
       "      <td>0.0</td>\n",
       "      <td>0.0</td>\n",
       "      <td>4.0</td>\n",
       "      <td>0.0</td>\n",
       "      <td>2.0</td>\n",
       "      <td>5.0</td>\n",
       "      <td>0.0</td>\n",
       "    </tr>\n",
       "    <tr>\n",
       "      <th>2</th>\n",
       "      <td>2</td>\n",
       "      <td>4.0</td>\n",
       "      <td>1.0</td>\n",
       "      <td>5.0</td>\n",
       "      <td>0.0</td>\n",
       "      <td>0.0</td>\n",
       "      <td>0.0</td>\n",
       "      <td>0.0</td>\n",
       "      <td>0.0</td>\n",
       "      <td>0.0</td>\n",
       "      <td>2.0</td>\n",
       "      <td>0.0</td>\n",
       "      <td>0.0</td>\n",
       "      <td>3.0</td>\n",
       "    </tr>\n",
       "  </tbody>\n",
       "</table>\n",
       "</div>"
      ],
      "text/plain": [
       "cuisine  cuisine  all-purpose flour  baking powder  butter  chili powder  \\\n",
       "0              0                0.0            0.0     0.0           0.0   \n",
       "1              1                0.0            0.0     0.0           1.0   \n",
       "2              2                4.0            1.0     5.0           0.0   \n",
       "\n",
       "cuisine  garlic  garlic cloves  grated parmesan cheese  ground black pepper  \\\n",
       "0           2.0            4.0                     3.0                  1.0   \n",
       "1           3.0            0.0                     0.0                  0.0   \n",
       "2           0.0            0.0                     0.0                  0.0   \n",
       "\n",
       "cuisine  ground cumin  large eggs  olive oil  onions  sugar  \n",
       "0                 0.0         0.0        5.0     0.0    0.0  \n",
       "1                 4.0         0.0        2.0     5.0    0.0  \n",
       "2                 0.0         2.0        0.0     0.0    3.0  "
      ]
     },
     "execution_count": 35,
     "metadata": {},
     "output_type": "execute_result"
    }
   ],
   "source": [
    "final"
   ]
  },
  {
   "cell_type": "code",
   "execution_count": 34,
   "metadata": {},
   "outputs": [],
   "source": [
    "final = final.loc[:,~final.columns.duplicated()]"
   ]
  },
  {
   "cell_type": "code",
   "execution_count": 36,
   "metadata": {},
   "outputs": [
    {
     "data": {
      "text/plain": [
       "GaussianNB()"
      ]
     },
     "execution_count": 36,
     "metadata": {},
     "output_type": "execute_result"
    }
   ],
   "source": [
    "from sklearn.naive_bayes import GaussianNB\n",
    "\n",
    "target=final.cuisine\n",
    "features=final.iloc[:,1:]\n",
    "\n",
    "model = GaussianNB()\n",
    "\n",
    "# Train the model using the training sets\n",
    "model.fit(features,target)"
   ]
  },
  {
   "cell_type": "code",
   "execution_count": 37,
   "metadata": {},
   "outputs": [
    {
     "name": "stdout",
     "output_type": "stream",
     "text": [
      "Predicted Value: [2]\n"
     ]
    }
   ],
   "source": [
    "#Predict Output\n",
    "\n",
    "#Rate the favorite ingredients on the scale of 1-5 with 5 being the best. Put \"0\" for the ones which you don't want to rate.\n",
    "\n",
    "a=5    #(all-purpose flour)\n",
    "b=4    #(baking powder)\n",
    "c=2    #(butter)\n",
    "d=5    #(chili powder)\n",
    "e=0    #(garlic)\n",
    "f=0    #(garlic cloves)\n",
    "g=0    #(grated parmesan cheese)\n",
    "h=0    #(ground black pepper)\n",
    "i=0    #(ground cumin)\n",
    "j=0    #(large eggs)\n",
    "k=5    #(olive oil)\n",
    "l=0    #(onions)\n",
    "m=0    #(sugar)\n",
    "\n",
    "\n",
    "predicted= model.predict([[a,b,c,d,e,f,g,h,i,j,k,l,m]]) \n",
    "print(\"Predicted Value:\", predicted)"
   ]
  },
  {
   "cell_type": "markdown",
   "metadata": {},
   "source": [
    "The predcitited cusine type is - southern_us"
   ]
  }
 ],
 "metadata": {
  "kernelspec": {
   "display_name": "Python 3",
   "language": "python",
   "name": "python3"
  },
  "language_info": {
   "codemirror_mode": {
    "name": "ipython",
    "version": 3
   },
   "file_extension": ".py",
   "mimetype": "text/x-python",
   "name": "python",
   "nbconvert_exporter": "python",
   "pygments_lexer": "ipython3",
   "version": "3.8.5"
  }
 },
 "nbformat": 4,
 "nbformat_minor": 4
}
